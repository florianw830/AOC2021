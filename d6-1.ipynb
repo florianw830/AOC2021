{
 "cells": [
  {
   "cell_type": "code",
   "execution_count": 214,
   "id": "ce064d35",
   "metadata": {},
   "outputs": [],
   "source": [
    "from collections import defaultdict\n",
    "f = open(\"input6-1.txt\", \"r\")\n",
    "l = f.read().split(\"\\n\")[:-1]\n",
    "ll = [int(x) for x in l[0].split(',')]\n",
    "#print(ll)\n",
    "#ll =[3,4,3,2,1]"
   ]
  },
  {
   "cell_type": "code",
   "execution_count": 215,
   "id": "aedd3845",
   "metadata": {},
   "outputs": [],
   "source": [
    "dct = defaultdict(int)\n",
    "def getChild(day, days):\n",
    "    if dct[day] != 0:\n",
    "        return dct[day]\n",
    "    if day > days:\n",
    "        return 0\n",
    "    x = [m for m in range(day+1,days+1,7)]\n",
    "    if x == []:\n",
    "        return 0\n",
    "    ct = len(x)\n",
    "    for k in x:\n",
    "        \n",
    "        ct += getChild(k+8,days)\n",
    "    dct[day] = ct\n",
    "    return ct"
   ]
  },
  {
   "cell_type": "code",
   "execution_count": 216,
   "id": "df8996d2",
   "metadata": {},
   "outputs": [
    {
     "name": "stdout",
     "output_type": "stream",
     "text": [
      "802527662627770222968383135489619276173546985226137322519629954224864487578187302102205384664511981784369111596886300041079004126430966495017427690804329513250947612265937965498020649722677710544306096482502300415802479853534705199683088947191932655494246735854854120701045577537717540537979304651656865087766307622244170693947301858597234657688298998835995305779377940513395281450\n"
     ]
    }
   ],
   "source": [
    "_days = 10000\n",
    "ct=0\n",
    "for x in set(ll):\n",
    "    #print(x)\n",
    "    #print(getChild(x,_days) * ll.count(x))\n",
    "    ct += getChild(x,_days) * ll.count(x)\n",
    "ct+=len(ll)\n",
    "print(ct)"
   ]
  },
  {
   "cell_type": "code",
   "execution_count": null,
   "id": "69ad2a4d",
   "metadata": {},
   "outputs": [],
   "source": []
  }
 ],
 "metadata": {
  "kernelspec": {
   "display_name": "Python 3",
   "language": "python",
   "name": "python3"
  },
  "language_info": {
   "codemirror_mode": {
    "name": "ipython",
    "version": 3
   },
   "file_extension": ".py",
   "mimetype": "text/x-python",
   "name": "python",
   "nbconvert_exporter": "python",
   "pygments_lexer": "ipython3",
   "version": "3.8.8"
  }
 },
 "nbformat": 4,
 "nbformat_minor": 5
}
