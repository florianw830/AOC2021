{
 "cells": [
  {
   "cell_type": "code",
   "execution_count": 242,
   "metadata": {},
   "outputs": [],
   "source": [
    "from collections import defaultdict\n",
    "f = open(\"input3-1.txt\", \"r\")\n",
    "l = f.read().split(\"\\n\")[:-1]\n",
    "ll = [x for x in l]\n",
    "\n",
    "le = len(l[0])\n",
    "n = []\n"
   ]
  },
  {
   "cell_type": "code",
   "execution_count": 243,
   "metadata": {},
   "outputs": [],
   "source": [
    "def getCount(l,p):\n",
    "    o = 0\n",
    "    z = 0\n",
    "    for x in l:\n",
    "\n",
    "        if x[p] == '1':\n",
    "            o +=1\n",
    "        else:\n",
    "            z +=1\n",
    "\n",
    "    if z == o:\n",
    "        return '1','0'\n",
    "    if z < o:\n",
    "        return '1','0'\n",
    "    if z > o:\n",
    "        return '0','1'\n",
    "            "
   ]
  },
  {
   "cell_type": "code",
   "execution_count": 244,
   "metadata": {},
   "outputs": [],
   "source": [
    "def getLst(l,le):\n",
    "    for i in range(0,le):\n",
    "        s =\"\"\n",
    "        for x in l:\n",
    "            s += x[i]\n",
    "        n.append(s)\n",
    "\n",
    "    return n"
   ]
  },
  {
   "cell_type": "code",
   "execution_count": null,
   "metadata": {},
   "outputs": [],
   "source": []
  },
  {
   "cell_type": "code",
   "execution_count": 245,
   "metadata": {},
   "outputs": [
    {
     "name": "stdout",
     "output_type": "stream",
     "text": [
      "6822109\n"
     ]
    }
   ],
   "source": [
    "\n",
    "tmp = ll.copy()\n",
    "\n",
    "for i in range(0,le):\n",
    "    ll = [x for x in ll if x[i] ==getCount(ll,i)[0]]\n",
    "    \n",
    "    if len(ll) == 1:\n",
    "        break\n",
    "\n",
    "a = int(ll[0],2)\n",
    "\n",
    "ll = tmp\n",
    "for i in range(0,le):\n",
    "    ll = [x for x in ll if x[i] ==getCount(ll,i)[1]]\n",
    "\n",
    "    if len(ll) == 1:\n",
    "        break\n",
    "    \n",
    "b =  int(ll[0],2)\n",
    "print(b*a)"
   ]
  },
  {
   "cell_type": "code",
   "execution_count": null,
   "metadata": {},
   "outputs": [],
   "source": []
  },
  {
   "cell_type": "code",
   "execution_count": null,
   "metadata": {},
   "outputs": [],
   "source": []
  }
 ],
 "metadata": {
  "kernelspec": {
   "display_name": "Python 3",
   "language": "python",
   "name": "python3"
  },
  "language_info": {
   "codemirror_mode": {
    "name": "ipython",
    "version": 3
   },
   "file_extension": ".py",
   "mimetype": "text/x-python",
   "name": "python",
   "nbconvert_exporter": "python",
   "pygments_lexer": "ipython3",
   "version": "3.8.8"
  }
 },
 "nbformat": 4,
 "nbformat_minor": 4
}
