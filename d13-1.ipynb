{
 "cells": [
  {
   "cell_type": "code",
   "execution_count": 82,
   "id": "70ad9cc4",
   "metadata": {},
   "outputs": [
    {
     "name": "stdout",
     "output_type": "stream",
     "text": [
      "['6,10', '0,14', '9,10', '0,3', '10,4', '4,11', '6,0', '6,12', '4,1', '0,13', '10,12', '3,4', '3,0', '8,4', '1,10', '2,14', '8,10', '9,0', '', 'fold along y=7', 'fold along x=5']\n"
     ]
    }
   ],
   "source": [
    "from collections import defaultdict\n",
    "import itertools\n",
    "f = open(\"input13-2.txt\", \"r\")\n",
    "l = f.read().split(\"\\n\")[:-1]\n",
    "ll = [ x  for x in l]\n",
    "t =[]\n",
    "\n",
    "print(ll)\n"
   ]
  },
  {
   "cell_type": "code",
   "execution_count": 83,
   "id": "02016f66",
   "metadata": {},
   "outputs": [
    {
     "name": "stdout",
     "output_type": "stream",
     "text": [
      "[(6, 10), (0, 14), (9, 10), (0, 3), (10, 4), (4, 11), (6, 0), (6, 12), (4, 1), (0, 13), (10, 12), (3, 4), (3, 0), (8, 4), (1, 10), (2, 14), (8, 10), (9, 0)]\n",
      "['fold along y=7', 'fold along x=5']\n"
     ]
    }
   ],
   "source": [
    "coords = [(int(x.split(',')[0]),int(x.split(',')[1])) for x in ll if ',' in x]\n",
    "print (coords)\n",
    "folds = [x for x in ll if '=' in x]\n",
    "print(folds)"
   ]
  },
  {
   "cell_type": "code",
   "execution_count": 84,
   "id": "e60d4f02",
   "metadata": {},
   "outputs": [],
   "source": [
    "def foldY(y,l):\n",
    "    retVal = []\n",
    "    for t in l:\n",
    "        tmp = t\n",
    "        if t[1] > y:\n",
    "\n",
    "            _y = t[1]%y\n",
    "            if _y != 0:\n",
    "                _y = y-_y\n",
    "            tmp =(t[0],_y)\n",
    "        retVal.append(tmp)\n",
    "    return retVal\n",
    "        "
   ]
  },
  {
   "cell_type": "code",
   "execution_count": 85,
   "id": "bb424f26",
   "metadata": {},
   "outputs": [],
   "source": [
    "def foldX(x,l):\n",
    "    retVal = []\n",
    "    for t in l:\n",
    "        tmp = t\n",
    "        if t[0] > x:\n",
    "            _x = t[0]%x\n",
    "            if _x != 0:\n",
    "                _x = x-_x\n",
    "            tmp =(_x,t[1])\n",
    "        retVal.append(tmp)\n",
    "    return retVal\n",
    "        "
   ]
  },
  {
   "cell_type": "code",
   "execution_count": 86,
   "id": "c752506f",
   "metadata": {},
   "outputs": [
    {
     "name": "stdout",
     "output_type": "stream",
     "text": [
      "18\n",
      "[(6, 10), (0, 14), (9, 10), (0, 3), (10, 4), (4, 11), (6, 0), (6, 12), (4, 1), (0, 13), (10, 12), (3, 4), (3, 0), (8, 4), (1, 10), (2, 14), (8, 10), (9, 0)]\n",
      "17\n",
      "[(6, 4), (0, 0), (9, 4), (0, 3), (10, 4), (4, 3), (6, 0), (6, 2), (4, 1), (0, 1), (10, 2), (3, 4), (3, 0), (8, 4), (1, 4), (2, 0), (8, 4), (9, 0)]\n"
     ]
    }
   ],
   "source": [
    "print(len(coords))\n",
    "print(coords)\n",
    "print(len(set(foldY(7,coords))))\n",
    "print(foldY(7,coords))\n"
   ]
  },
  {
   "cell_type": "code",
   "execution_count": null,
   "id": "a56cc60b",
   "metadata": {},
   "outputs": [],
   "source": []
  }
 ],
 "metadata": {
  "kernelspec": {
   "display_name": "Python 3",
   "language": "python",
   "name": "python3"
  },
  "language_info": {
   "codemirror_mode": {
    "name": "ipython",
    "version": 3
   },
   "file_extension": ".py",
   "mimetype": "text/x-python",
   "name": "python",
   "nbconvert_exporter": "python",
   "pygments_lexer": "ipython3",
   "version": "3.8.8"
  }
 },
 "nbformat": 4,
 "nbformat_minor": 5
}
