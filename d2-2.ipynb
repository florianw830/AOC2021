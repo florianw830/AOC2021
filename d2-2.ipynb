{
 "cells": [
  {
   "cell_type": "code",
   "execution_count": 19,
   "id": "ccef208c",
   "metadata": {},
   "outputs": [],
   "source": [
    "from collections import defaultdict\n",
    "f = open(\"input2-1.txt\", \"r\")\n",
    "l = f.read().split(\"\\n\")[:-1]\n",
    "ll = [x for x in l]\n"
   ]
  },
  {
   "cell_type": "code",
   "execution_count": 20,
   "id": "8682e615",
   "metadata": {},
   "outputs": [
    {
     "name": "stdout",
     "output_type": "stream",
     "text": [
      "2010 1034321 2078985210\n"
     ]
    }
   ],
   "source": [
    "h = 0\n",
    "d = 0\n",
    "a =0\n",
    "for x in ll:\n",
    "    tmp = x.split(\" \")\n",
    "\n",
    "    if tmp[0] == \"forward\":\n",
    "        h += int(tmp[1])\n",
    "        d += int(tmp[1]) * a\n",
    "    if tmp[0] == \"down\":\n",
    "        a += int(tmp[1])   \n",
    "    if tmp[0] == \"up\":\n",
    "        a -= int(tmp[1])     \n",
    "\n",
    "print(h,d, h*d)"
   ]
  },
  {
   "cell_type": "code",
   "execution_count": null,
   "id": "297a11be",
   "metadata": {},
   "outputs": [],
   "source": []
  }
 ],
 "metadata": {
  "kernelspec": {
   "display_name": "Python 3",
   "language": "python",
   "name": "python3"
  },
  "language_info": {
   "codemirror_mode": {
    "name": "ipython",
    "version": 3
   },
   "file_extension": ".py",
   "mimetype": "text/x-python",
   "name": "python",
   "nbconvert_exporter": "python",
   "pygments_lexer": "ipython3",
   "version": "3.8.8"
  }
 },
 "nbformat": 4,
 "nbformat_minor": 5
}
