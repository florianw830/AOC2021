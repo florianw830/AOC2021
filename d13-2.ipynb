{
 "cells": [
  {
   "cell_type": "code",
   "execution_count": 43,
   "metadata": {},
   "outputs": [],
   "source": [
    "from collections import defaultdict\n",
    "import itertools\n",
    "f = open(\"input13-1.txt\", \"r\")\n",
    "l = f.read().split(\"\\n\")[:-1]\n",
    "ll = [ x  for x in l]\n",
    "t =[]\n",
    "\n",
    "\n"
   ]
  },
  {
   "cell_type": "code",
   "execution_count": 44,
   "metadata": {},
   "outputs": [],
   "source": [
    "coords = [(int(x.split(',')[0]),int(x.split(',')[1])) for x in ll if ',' in x]\n",
    "\n",
    "folds = [x for x in ll if '=' in x]\n"
   ]
  },
  {
   "cell_type": "code",
   "execution_count": 45,
   "metadata": {},
   "outputs": [],
   "source": [
    "def foldY(y,l,m):\n",
    "    retVal = []\n",
    "    le = m - (m-y)\n",
    "    for t in l:\n",
    "        tmp = t\n",
    "        if t[1] > y:\n",
    "            _y = t[1]-y\n",
    "            _y = le-_y\n",
    "            tmp =(t[0],_y)\n",
    "        retVal.append(tmp)\n",
    "    return retVal\n",
    "        "
   ]
  },
  {
   "cell_type": "code",
   "execution_count": 46,
   "metadata": {},
   "outputs": [],
   "source": [
    "def foldX(x,l,m):\n",
    "    retVal = []\n",
    "    le = m - (m-x)\n",
    "    for t in l:\n",
    "        tmp = t\n",
    "        if t[0] > x:\n",
    "            _x = t[0]-x\n",
    "            _x = le-_x\n",
    "            tmp =(_x,t[1])\n",
    "        retVal.append(tmp)\n",
    "    return retVal\n",
    "        "
   ]
  },
  {
   "cell_type": "code",
   "execution_count": 47,
   "metadata": {},
   "outputs": [],
   "source": [
    "\n",
    "_x = max([ x[0] for x in coords])\n",
    "_y = max([ x[1] for x in coords])\n",
    "for x in folds:\n",
    "    \n",
    "    c = int(x.split(\"=\")[1])\n",
    "\n",
    "    if \"x\" in x:\n",
    "        _x =c\n",
    "        coords = foldX(c,coords,_x)\n",
    "    if \"y\" in x:\n",
    "        _y = c\n",
    "        coords = foldY(c,coords,_y)\n",
    "        \n",
    "#print(coords)"
   ]
  },
  {
   "cell_type": "code",
   "execution_count": 48,
   "metadata": {},
   "outputs": [
    {
     "name": "stdout",
     "output_type": "stream",
     "text": [
      "####.###..#....#..#.###..###..####.#..#\n",
      "#....#..#.#....#..#.#..#.#..#.#....#..#\n",
      "###..###..#....#..#.###..#..#.###..####\n",
      "#....#..#.#....#..#.#..#.###..#....#..#\n",
      "#....#..#.#....#..#.#..#.#.#..#....#..#\n",
      "####.###..####..##..###..#..#.#....#..#\n"
     ]
    }
   ],
   "source": [
    "_x = max([ x[0] for x in coords])\n",
    "_y = max([ x[1] for x in coords])\n",
    "\n",
    "for y in range(0,_y+1):\n",
    "    line=\"\"\n",
    "    for x in range(0,_x+1):\n",
    "        if (x,y) in coords:\n",
    "            line +='#'\n",
    "        else:\n",
    "            line +='.'\n",
    "    print(line)"
   ]
  },
  {
   "cell_type": "code",
   "execution_count": null,
   "metadata": {},
   "outputs": [],
   "source": []
  },
  {
   "cell_type": "code",
   "execution_count": null,
   "metadata": {},
   "outputs": [],
   "source": []
  }
 ],
 "metadata": {
  "kernelspec": {
   "display_name": "Python 3",
   "language": "python",
   "name": "python3"
  },
  "language_info": {
   "codemirror_mode": {
    "name": "ipython",
    "version": 3
   },
   "file_extension": ".py",
   "mimetype": "text/x-python",
   "name": "python",
   "nbconvert_exporter": "python",
   "pygments_lexer": "ipython3",
   "version": "3.8.5"
  }
 },
 "nbformat": 4,
 "nbformat_minor": 5
}
