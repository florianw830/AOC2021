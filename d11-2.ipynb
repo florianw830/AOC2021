{
 "cells": [
  {
   "cell_type": "code",
   "execution_count": 21,
   "id": "86189348",
   "metadata": {},
   "outputs": [
    {
     "name": "stdout",
     "output_type": "stream",
     "text": [
      "[[1, 4, 4, 3, 5, 8, 2, 1, 4, 8], [6, 5, 5, 3, 7, 3, 4, 8, 5, 1], [1, 4, 5, 1, 7, 4, 1, 2, 4, 6], [8, 8, 3, 5, 2, 1, 8, 8, 6, 4], [1, 6, 6, 2, 3, 1, 7, 2, 6, 2], [1, 7, 3, 1, 6, 5, 6, 6, 2, 3], [1, 1, 2, 8, 1, 7, 8, 3, 6, 7], [5, 8, 4, 2, 3, 5, 1, 6, 6, 5], [6, 6, 7, 7, 3, 2, 6, 8, 4, 3], [7, 3, 8, 1, 4, 3, 3, 2, 6, 7]]\n"
     ]
    }
   ],
   "source": [
    "from collections import defaultdict\n",
    "f = open(\"input11-1.txt\", \"r\")\n",
    "l = f.read().split(\"\\n\")[:-1]\n",
    "ll = [ x  for x in l]\n",
    "t =[]\n",
    "for l in ll:\n",
    "    t.append( [int(x) for x in l])\n",
    "print(t)\n"
   ]
  },
  {
   "cell_type": "code",
   "execution_count": 22,
   "id": "f843d719",
   "metadata": {},
   "outputs": [],
   "source": [
    "def getAdj(x,y,l):\n",
    "    retVal =[]\n",
    "    for _x in range(x-1,x+2):\n",
    "        print(_x)\n",
    "        if _x < 0 or _x > len(l):\n",
    "            continue\n",
    "        for _y in range(y-1,y+2):\n",
    "            if _x < 0 or _x > len(l):\n",
    "                continue\n",
    "            retVal.append((_x,_y))\n",
    "    return retVal\n",
    "    "
   ]
  },
  {
   "cell_type": "code",
   "execution_count": 23,
   "id": "a8270daf",
   "metadata": {},
   "outputs": [],
   "source": [
    "def incAdj(x,y,l,dct):\n",
    "    retVal =[]\n",
    "    for _x in range(x-1,x+2):\n",
    "\n",
    "        if _x < 0 or _x >= len(l):\n",
    "            continue\n",
    "        for _y in range(y-1,y+2):\n",
    "            if _y < 0 or _y >= len(l):\n",
    "                continue\n",
    "            if _x == x and _y == y:\n",
    "                continue\n",
    "            if l[y][x] >9:\n",
    "                \n",
    "                if l[_y][_x] <= 9 and dct[(y,x)] == 0 and dct[(_y,_x)] == 0:\n",
    "                    l[_y][_x] +=1\n",
    "                    #print((y,x),(_y,_x),l[_y][_x])\n",
    "            #retVal.append((_x,_y))\n",
    "    return retVal"
   ]
  },
  {
   "cell_type": "code",
   "execution_count": 24,
   "id": "33d1dc5b",
   "metadata": {},
   "outputs": [],
   "source": [
    "def inc(l):\n",
    "    for i in range(0,len(l)):\n",
    "        l[i]+=1\n"
   ]
  },
  {
   "cell_type": "code",
   "execution_count": 25,
   "id": "54b4766e",
   "metadata": {},
   "outputs": [],
   "source": [
    "def res(l,dct):\n",
    "    ct = 0\n",
    "    for y in range(0,len(l)):\n",
    "        for x in range(0,len(l[y])):\n",
    "            if l[y][x] >9:\n",
    "                incAdj(x,y,l,dct)\n",
    "                dct[(y,x)] = 1\n",
    "                l[y][x] = 0\n",
    "                ct+=1\n",
    "    return ct"
   ]
  },
  {
   "cell_type": "code",
   "execution_count": 26,
   "id": "e6d0c616",
   "metadata": {},
   "outputs": [
    {
     "name": "stdout",
     "output_type": "stream",
     "text": [
      "..... 476\n"
     ]
    }
   ],
   "source": [
    "g = 0\n",
    "for n in range(0,2000):\n",
    "    dct = defaultdict(int)\n",
    "    for k in t:\n",
    "        inc(k)\n",
    "\n",
    "    ct = res(t,dct)\n",
    "\n",
    "    while ct >0:\n",
    "        ct = res(t,dct)\n",
    "\n",
    "    tt = 0\n",
    "    for x in t:\n",
    "        tt += sum(x)\n",
    "    if tt == 0:\n",
    "        print(\".....\",n+1)\n",
    "        break\n",
    "\n"
   ]
  },
  {
   "cell_type": "code",
   "execution_count": 596,
   "id": "9c389791",
   "metadata": {},
   "outputs": [
    {
     "name": "stdout",
     "output_type": "stream",
     "text": [
      "[[2, 5, 5, 4, 6, 9, 3, 2, 5, 9], [7, 6, 6, 4, 8, 4, 5, 9, 6, 2], [2, 5, 6, 2, 8, 5, 2, 3, 5, 7], [9, 9, 4, 6, 3, 2, 9, 9, 7, 5], [2, 7, 7, 3, 4, 2, 8, 3, 7, 3], [2, 8, 4, 2, 7, 6, 7, 7, 3, 4], [2, 2, 3, 9, 2, 8, 9, 4, 7, 8], [6, 9, 5, 3, 4, 6, 2, 7, 7, 6], [7, 7, 8, 8, 4, 3, 7, 9, 5, 4], [8, 4, 9, 2, 5, 4, 4, 3, 7, 8]]\n"
     ]
    }
   ],
   "source": [
    "print(t)"
   ]
  },
  {
   "cell_type": "code",
   "execution_count": null,
   "id": "bc5d574c",
   "metadata": {},
   "outputs": [],
   "source": []
  }
 ],
 "metadata": {
  "kernelspec": {
   "display_name": "Python 3",
   "language": "python",
   "name": "python3"
  },
  "language_info": {
   "codemirror_mode": {
    "name": "ipython",
    "version": 3
   },
   "file_extension": ".py",
   "mimetype": "text/x-python",
   "name": "python",
   "nbconvert_exporter": "python",
   "pygments_lexer": "ipython3",
   "version": "3.8.8"
  }
 },
 "nbformat": 4,
 "nbformat_minor": 5
}
