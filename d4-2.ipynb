{
 "cells": [
  {
   "cell_type": "code",
   "execution_count": 198,
   "id": "f6e05e0b",
   "metadata": {},
   "outputs": [],
   "source": [
    "from collections import defaultdict\n",
    "f = open(\"input4-11.txt\", \"r\")\n",
    "l = f.read().split(\"\\n\")[:-1]\n",
    "ll = [x for x in l]\n",
    "\n",
    "le = len(l[0])\n",
    "n = []\n"
   ]
  },
  {
   "cell_type": "code",
   "execution_count": null,
   "id": "18ca888d",
   "metadata": {},
   "outputs": [],
   "source": []
  },
  {
   "cell_type": "code",
   "execution_count": 199,
   "id": "cd69cd37",
   "metadata": {},
   "outputs": [
    {
     "name": "stdout",
     "output_type": "stream",
     "text": [
      "[72, 86, 73, 66, 37, 76, 19, 40, 77, 42, 48, 62, 46, 3, 95, 17, 97, 41, 10, 14, 83, 90, 12, 23, 81, 98, 11, 57, 13, 69, 28, 63, 5, 78, 79, 58, 54, 67, 60, 34, 39, 84, 94, 29, 20, 0, 24, 38, 43, 51, 64, 18, 27, 52, 47, 74, 59, 22, 85, 65, 80, 2, 99, 70, 33, 91, 53, 93, 9, 82, 8, 50, 7, 56, 30, 36, 89, 71, 21, 49, 31, 88, 26, 96, 16, 1, 75, 87, 6, 61, 4, 68, 32, 25, 55, 44, 15, 45, 92, 35]\n"
     ]
    }
   ],
   "source": [
    "bingo = [int(x) for x in ll[0].split(',')]\n",
    "print(bingo)"
   ]
  },
  {
   "cell_type": "code",
   "execution_count": 200,
   "id": "4116e31e",
   "metadata": {},
   "outputs": [],
   "source": [
    "def check(l):\n",
    "    for x in l:\n",
    "        if x.count(-1) == len(x):\n",
    "            return True\n",
    "    for i in range(0,len(l[0])):\n",
    "        match = True\n",
    "        for x in range(0,len(l)):\n",
    "         \n",
    "            if l[x][i] != -1:\n",
    "                match = False\n",
    "                break\n",
    "        if match:\n",
    "            return True\n",
    "            \n",
    "        \n",
    "    return False"
   ]
  },
  {
   "cell_type": "code",
   "execution_count": 201,
   "id": "477f91a7",
   "metadata": {},
   "outputs": [
    {
     "name": "stdout",
     "output_type": "stream",
     "text": [
      "True\n",
      "False\n",
      "True\n",
      "True\n"
     ]
    }
   ],
   "source": [
    "print(check([[-1,-1,-1,-1],[2,3,-1,7],[2,3,5,7],[5,-1,8,7],[-1,3,6,7]]))\n",
    "print(check([[2,3,-1,7],[2,3,5,7],[5,-1,8,7],[-1,3,6,7]]))\n",
    "print(check([[8,3,-1,7],[-1,3,-1,7],[-1,-1,-1,7],[-1,3,-1,7]]))\n",
    "print(check([[3, 15, -1, -1, 22], [-1, 18, -1, -1, -1], [19, 8, -1, 25, -1], [20, -1, -1, -1, -1], [-1, -1, -1, 12, 6]]))"
   ]
  },
  {
   "cell_type": "code",
   "execution_count": 202,
   "id": "de3d1639",
   "metadata": {},
   "outputs": [
    {
     "name": "stdout",
     "output_type": "stream",
     "text": [
      "824 14 11536\n",
      "939 57 53523\n",
      "584 69 40296\n",
      "757 63 47691\n",
      "738 5 3690\n",
      "566 79 44714\n",
      "749 54 40446\n",
      "637 67 42679\n",
      "539 60 32340\n",
      "650 34 22100\n",
      "733 39 28587\n",
      "675 39 26325\n",
      "559 39 21801\n",
      "525 84 44100\n",
      "674 84 56616\n",
      "466 94 43804\n",
      "578 94 54332\n",
      "744 94 69936\n",
      "611 29 17719\n",
      "525 0 0\n",
      "577 0 0\n",
      "515 24 12360\n",
      "482 24 11568\n",
      "530 38 20140\n",
      "499 38 18962\n",
      "700 38 26600\n",
      "499 38 18962\n",
      "578 38 21964\n",
      "521 43 22403\n",
      "603 51 30753\n",
      "1031 51 52581\n",
      "534 51 27234\n",
      "581 51 29631\n",
      "349 64 22336\n",
      "472 18 8496\n",
      "362 18 6516\n",
      "646 18 11628\n",
      "522 27 14094\n",
      "373 52 19396\n",
      "550 52 28600\n",
      "665 52 34580\n",
      "429 47 20163\n",
      "357 47 16779\n",
      "568 47 26696\n",
      "605 47 28435\n",
      "460 74 34040\n",
      "548 74 40552\n",
      "564 74 41736\n",
      "396 74 29304\n",
      "559 59 32981\n",
      "415 59 24485\n",
      "490 22 10780\n",
      "545 85 46325\n",
      "366 85 31110\n",
      "507 85 43095\n",
      "454 65 29510\n",
      "284 65 18460\n",
      "447 65 29055\n",
      "326 65 21190\n",
      "504 2 1008\n",
      "442 99 43758\n",
      "329 70 23030\n",
      "388 70 27160\n",
      "570 70 39900\n",
      "393 33 12969\n",
      "702 33 23166\n",
      "414 33 13662\n",
      "422 33 13926\n",
      "395 91 35945\n",
      "342 91 31122\n",
      "333 91 30303\n",
      "581 53 30793\n",
      "143 53 7579\n",
      "331 53 17543\n",
      "412 53 21836\n",
      "353 9 3177\n",
      "366 8 2928\n",
      "203 8 1624\n",
      "439 50 21950\n",
      "240 50 12000\n",
      "317 50 15850\n",
      "264 50 13200\n",
      "325 7 2275\n",
      "387 7 2709\n",
      "409 7 2863\n",
      "259 30 7770\n",
      "433 36 15588\n",
      "356 36 12816\n",
      "326 36 11736\n",
      "287 36 10332\n",
      "155 89 13795\n",
      "176 89 15664\n",
      "318 71 22578\n",
      "191 21 4011\n",
      "341 31 10571\n",
      "218 88 19184\n",
      "419 26 10894\n",
      "166 75 12450\n",
      "292 75 21900\n",
      "214 6 1284\n"
     ]
    }
   ],
   "source": [
    "player =[]\n",
    "tmp = []\n",
    "for t in ll[1:]:\n",
    "    if len(t) == 0:\n",
    "        if tmp !=[]:\n",
    "            player.append(tmp)\n",
    "            tmp =[]\n",
    "        continue\n",
    "        \n",
    "    tmp.append([int(x) for x in t.replace(\"  \", \" \").split(\" \") if x != \"\"])\n",
    "\n",
    "player.append(tmp)    \n",
    "winner = None\n",
    "for m in bingo:\n",
    "    tmp = []\n",
    "    for p in player:\n",
    "        for l in p:\n",
    "            for i in range(0,len(l)):\n",
    "                if l[i] == m:\n",
    "                    l[i] = -1\n",
    "    a = [x for x in player if check(x)==True]\n",
    "    player = [x for x in player if check(x) == False]\n",
    "\n",
    "    if a !=[]:\n",
    "\n",
    "        \n",
    "        for b in a:\n",
    "            score = 0\n",
    "            for c in b:\n",
    "                if c == []:\n",
    "                    continue\n",
    "                score += sum([x for x in c if x >0])\n",
    "                \n",
    "            print(score,m, score*m)\n",
    "            \n",
    "\n",
    "\n",
    "\n",
    "        \n",
    " \n",
    "        "
   ]
  },
  {
   "cell_type": "code",
   "execution_count": null,
   "id": "02a16db4",
   "metadata": {},
   "outputs": [],
   "source": [
    "\n",
    "                    "
   ]
  },
  {
   "cell_type": "code",
   "execution_count": null,
   "id": "57b1a30f",
   "metadata": {},
   "outputs": [],
   "source": []
  }
 ],
 "metadata": {
  "kernelspec": {
   "display_name": "Python 3",
   "language": "python",
   "name": "python3"
  },
  "language_info": {
   "codemirror_mode": {
    "name": "ipython",
    "version": 3
   },
   "file_extension": ".py",
   "mimetype": "text/x-python",
   "name": "python",
   "nbconvert_exporter": "python",
   "pygments_lexer": "ipython3",
   "version": "3.8.8"
  }
 },
 "nbformat": 4,
 "nbformat_minor": 5
}
