{
 "cells": [
  {
   "cell_type": "code",
   "execution_count": 7,
   "metadata": {},
   "outputs": [],
   "source": [
    "from collections import defaultdict\n",
    "f = open(\"input6-1.txt\", \"r\")\n",
    "l = f.read().split(\"\\n\")[:-1]\n",
    "ll = [int(x) for x in l[0].split(',')]\n",
    "#print(ll)\n",
    "#ll =[3,4,3,2,1]"
   ]
  },
  {
   "cell_type": "code",
   "execution_count": 8,
   "metadata": {},
   "outputs": [],
   "source": [
    "dct = defaultdict(int)\n",
    "def getChild(day, days):\n",
    "    if dct[day] != 0:\n",
    "        return dct[day]\n",
    "    if day > days:\n",
    "        return 0\n",
    "    x = [m for m in range(day+1,days+1,7)]\n",
    "    if x == []:\n",
    "        return 0\n",
    "    ct = len(x)\n",
    "    for k in x:\n",
    "        \n",
    "        ct += getChild(k+8,days)\n",
    "    dct[day] = ct\n",
    "    return ct"
   ]
  },
  {
   "cell_type": "code",
   "execution_count": 9,
   "metadata": {},
   "outputs": [
    {
     "name": "stdout",
     "output_type": "stream",
     "text": [
      "1765974267455\n"
     ]
    }
   ],
   "source": [
    "_days = 256\n",
    "ct=0\n",
    "for x in set(ll):\n",
    "    #print(x)\n",
    "    #print(getChild(x,_days) * ll.count(x))\n",
    "    ct += getChild(x,_days) * ll.count(x)\n",
    "ct+=len(ll)\n",
    "print(ct)"
   ]
  },
  {
   "cell_type": "code",
   "execution_count": null,
   "metadata": {},
   "outputs": [],
   "source": []
  }
 ],
 "metadata": {
  "kernelspec": {
   "display_name": "Python 3",
   "language": "python",
   "name": "python3"
  },
  "language_info": {
   "codemirror_mode": {
    "name": "ipython",
    "version": 3
   },
   "file_extension": ".py",
   "mimetype": "text/x-python",
   "name": "python",
   "nbconvert_exporter": "python",
   "pygments_lexer": "ipython3",
   "version": "3.8.5"
  }
 },
 "nbformat": 4,
 "nbformat_minor": 5
}
