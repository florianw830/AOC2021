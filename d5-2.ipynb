{
 "cells": [
  {
   "cell_type": "code",
   "execution_count": 170,
   "id": "c2c75932",
   "metadata": {},
   "outputs": [],
   "source": [
    "from collections import defaultdict\n",
    "f = open(\"input5-1.txt\", \"r\")\n",
    "l = f.read().split(\"\\n\")[:-1]\n",
    "ll = [x for x in l]\n",
    "l = [((int(x.split(' -> ')[0].split(\",\")[0]),int(x.split(' -> ')[0].split(\",\")[1])),(int(x.split(' -> ')[1].split(\",\")[0]),int(x.split(' -> ')[1].split(\",\")[1])))  for x in ll]\n"
   ]
  },
  {
   "cell_type": "code",
   "execution_count": 171,
   "id": "ff1177e6",
   "metadata": {},
   "outputs": [],
   "source": [
    "def getAll(a,b):\n",
    "    retVal = []\n",
    "    if a[0]-b[0] ==0:\n",
    "        x = b[0]\n",
    "        y = a[1] if a[1] < b[1] else b[1]\n",
    "        retVal = [(x,_y) for _y in range(y, abs(a[1]-b[1])+y+1)]\n",
    "    if a[1]-b[1] ==0:    \n",
    "        y = b[1]\n",
    "        x = a[0] if a[0] < b[0] else b[0]\n",
    "        retVal = [(_x,y) for _x in range(x, abs(a[0]-b[0])+x+1)] \n",
    "    else:\n",
    "        x = 1 if a[0] < b[0] else -1\n",
    "        y = 1 if a[1] < b[1] else -1\n",
    "        _x = a\n",
    "        _y = b\n",
    "        retVal.append(_x)\n",
    "        while _x[0] != _y[0] and _x[1] != _y[1]:\n",
    "            _x = (_x[0] + x,_x[1] + y)\n",
    "            retVal.append((_x))\n",
    "        \n",
    "    return list(set(retVal))\n",
    "    \n",
    "    \n",
    "    "
   ]
  },
  {
   "cell_type": "code",
   "execution_count": 172,
   "id": "cb581a9e",
   "metadata": {},
   "outputs": [
    {
     "name": "stdout",
     "output_type": "stream",
     "text": [
      "21038\n"
     ]
    }
   ],
   "source": [
    "dct = defaultdict(int)\n",
    "\n",
    "\n",
    "for x in l:\n",
    "    a = x[0]\n",
    "    b = x[1]\n",
    "    tmp = getAll(a,b)\n",
    "    if tmp !=[]:\n",
    "        for t in tmp:\n",
    "            dct[t]+=1\n",
    "ct = 0\n",
    "for key in dct:\n",
    "    if dct[key] >1:\n",
    "        ct +=1\n",
    "print(ct)"
   ]
  }
 ],
 "metadata": {
  "kernelspec": {
   "display_name": "Python 3",
   "language": "python",
   "name": "python3"
  },
  "language_info": {
   "codemirror_mode": {
    "name": "ipython",
    "version": 3
   },
   "file_extension": ".py",
   "mimetype": "text/x-python",
   "name": "python",
   "nbconvert_exporter": "python",
   "pygments_lexer": "ipython3",
   "version": "3.8.8"
  }
 },
 "nbformat": 4,
 "nbformat_minor": 5
}
