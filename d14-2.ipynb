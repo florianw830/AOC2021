{
 "cells": [
  {
   "cell_type": "code",
   "execution_count": 225,
   "metadata": {},
   "outputs": [
    {
     "name": "stdout",
     "output_type": "stream",
     "text": [
      "['NCOPHKVONVPNSKSHBNPF', '', 'ON -> C', 'CK -> H', 'HC -> B', 'NP -> S', 'NH -> H', 'CB -> C', 'BB -> H', 'BC -> H', 'NN -> C', 'OH -> B', 'SF -> V', 'PB -> H', 'CP -> P', 'BN -> O', 'NB -> B', 'KB -> P', 'PV -> F', 'SH -> V', 'KP -> S', 'OF -> K', 'BS -> V', 'PF -> O', 'BK -> S', 'FB -> B', 'SV -> B', 'BH -> V', 'VK -> N', 'CS -> V', 'FV -> F', 'HS -> C', 'KK -> O', 'SP -> N', 'FK -> B', 'CF -> C', 'HP -> F', 'BF -> O', 'KC -> C', 'VP -> O', 'BP -> P', 'FF -> V', 'NO -> C', 'HK -> C', 'HV -> B', 'PK -> P', 'OV -> F', 'VN -> H', 'PC -> K', 'SB -> H', 'VO -> V', 'BV -> K', 'NC -> H', 'OB -> S', 'SN -> B', 'HF -> P', 'VF -> B', 'HN -> H', 'KS -> S', 'SC -> S', 'CV -> B', 'NS -> P', 'KO -> V', 'FS -> O', 'PH -> K', 'BO -> C', 'FH -> B', 'CO -> O', 'FO -> F', 'VV -> N', 'CH -> V', 'NK -> N', 'PO -> K', 'OK -> K', 'PP -> O', 'OC -> P', 'FC -> N', 'VH -> S', 'PN -> C', 'VB -> C', 'VS -> P', 'HO -> F', 'OP -> S', 'HB -> N', 'CC -> K', 'KN -> S', 'SK -> C', 'OS -> N', 'KH -> B', 'FP -> S', 'NF -> S', 'CN -> S', 'KF -> C', 'SS -> C', 'SO -> S', 'NV -> O', 'FN -> B', 'PS -> S', 'HH -> C', 'VC -> S', 'OO -> C', 'KV -> P']\n",
      "NCOPHKVONVPNSKSHBNPF\n"
     ]
    }
   ],
   "source": [
    "from collections import defaultdict\n",
    "f = open(\"input14-1.txt\", \"r\")\n",
    "l = f.read().split(\"\\n\")[:-1]\n",
    "ll = [ x  for x in l]\n",
    "t =[]\n",
    "print(ll)\n",
    "#print(t)\n",
    "pattern = ll[0]\n",
    "print(pattern)\n",
    "_rules = list(set([x for x in ll[2:]]))\n"
   ]
  },
  {
   "cell_type": "code",
   "execution_count": 226,
   "metadata": {},
   "outputs": [],
   "source": [
    "def fromRule(string, rules):\n",
    "    return string[0] + [x.split(\" -> \")[1] for x in rules if string + \" -> \" in x ][0] + string[1]\n",
    "def getAll(rules):\n",
    "    retVal = []\n",
    "    for x in rules:\n",
    "        retVal.append(x.split(\" -> \")[0][0])\n",
    "        retVal.append(x.split(\" -> \")[0][1])\n",
    "    return list(set(retVal))\n"
   ]
  },
  {
   "cell_type": "code",
   "execution_count": 227,
   "metadata": {},
   "outputs": [
    {
     "name": "stdout",
     "output_type": "stream",
     "text": [
      "['K', 'F', 'C', 'P', 'O', 'V', 'S', 'H', 'N', 'B']\n",
      "[1745958710834, 648162551582, 3989140326633, 1515938473690, 1141875027098, 2609864701083, 4190550766111, 1974790930899, 1148097608802, 1926341831012]\n",
      "3542388214529\n"
     ]
    }
   ],
   "source": [
    "countDict = defaultdict(int)\n",
    "\n",
    "for i in range(0,len(pattern)-1):\n",
    "    countDict[fromRule(pattern[i:i+2],_rules)] += 1\n",
    " \n",
    "for i in range(0,39):\n",
    "   # print(i)\n",
    "    _countDict = defaultdict(int)\n",
    "    for x in enumerate(countDict):\n",
    "        _countDict[fromRule(x[1][0:2],_rules)] += 1*countDict[x[1]]\n",
    "        _countDict[fromRule(x[1][1:],_rules)] += 1*countDict[x[1]]\n",
    "    countDict = _countDict\n",
    "\n",
    "ct = 0\n",
    "allDistinct =getAll(_rules)\n",
    "allCount = [0]*len(allDistinct)\n",
    "\n",
    "for i in range(0,len(allDistinct)):\n",
    "    ct = 0\n",
    "    for x in enumerate(countDict):\n",
    "        ct+=x[1][1:].count(allDistinct[i]) * countDict[x[1]]\n",
    "    allCount[i] = ct\n",
    "\n",
    "print(allDistinct)\n",
    "print(allCount)\n",
    "print(max(allCount) -min(allCount))"
   ]
  },
  {
   "cell_type": "code",
   "execution_count": null,
   "metadata": {},
   "outputs": [],
   "source": []
  }
 ],
 "metadata": {
  "kernelspec": {
   "display_name": "Python 3",
   "language": "python",
   "name": "python3"
  },
  "language_info": {
   "codemirror_mode": {
    "name": "ipython",
    "version": 3
   },
   "file_extension": ".py",
   "mimetype": "text/x-python",
   "name": "python",
   "nbconvert_exporter": "python",
   "pygments_lexer": "ipython3",
   "version": "3.8.5"
  }
 },
 "nbformat": 4,
 "nbformat_minor": 4
}
