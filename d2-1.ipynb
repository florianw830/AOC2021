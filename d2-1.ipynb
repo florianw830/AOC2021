{
 "cells": [
  {
   "cell_type": "code",
   "execution_count": 1,
   "id": "3e0afb5b",
   "metadata": {},
   "outputs": [],
   "source": [
    "from collections import defaultdict\n",
    "f = open(\"input2-1.txt\", \"r\")\n",
    "l = f.read().split(\"\\n\")[:-1]\n",
    "ll = [x for x in l]\n"
   ]
  },
  {
   "cell_type": "code",
   "execution_count": 2,
   "id": "9df6260e",
   "metadata": {},
   "outputs": [
    {
     "name": "stdout",
     "output_type": "stream",
     "text": [
      "2010 0 0\n"
     ]
    }
   ],
   "source": [
    "h = 0\n",
    "d = 0\n",
    "a =0\n",
    "for x in ll:\n",
    "    tmp = x.split(\" \")\n",
    "    if tmp[0] == \"forward\":\n",
    "        h += int(tmp[1])\n",
    "        d += int(tmp[1]) * d\n",
    "    if tmp[0] == \"down\":\n",
    "        a += int(tmp[1])   \n",
    "    if tmp[0] == \"up\":\n",
    "        a -= int(tmp[1])     \n",
    "\n",
    "print(h,d, h*d)"
   ]
  },
  {
   "cell_type": "code",
   "execution_count": null,
   "id": "3ee9be77",
   "metadata": {},
   "outputs": [],
   "source": []
  }
 ],
 "metadata": {
  "kernelspec": {
   "display_name": "Python 3",
   "language": "python",
   "name": "python3"
  },
  "language_info": {
   "codemirror_mode": {
    "name": "ipython",
    "version": 3
   },
   "file_extension": ".py",
   "mimetype": "text/x-python",
   "name": "python",
   "nbconvert_exporter": "python",
   "pygments_lexer": "ipython3",
   "version": "3.8.8"
  }
 },
 "nbformat": 4,
 "nbformat_minor": 5
}
