{
 "cells": [
  {
   "cell_type": "code",
   "execution_count": 2379,
   "id": "5236aa81",
   "metadata": {},
   "outputs": [
    {
     "name": "stdout",
     "output_type": "stream",
     "text": [
      "['ma-start', 'YZ-rv', 'MP-rv', 'vc-MP', 'QD-kj', 'rv-kj', 'ma-rv', 'YZ-zd', 'UB-rv', 'MP-xe', 'start-MP', 'zd-end', 'ma-UB', 'ma-MP', 'UB-xe', 'end-UB', 'ju-MP', 'ma-xe', 'zd-UB', 'start-xe', 'YZ-end']\n"
     ]
    }
   ],
   "source": [
    "from collections import defaultdict\n",
    "import itertools\n",
    "f = open(\"input12-1.txt\", \"r\")\n",
    "l = f.read().split(\"\\n\")[:-1]\n",
    "ll = [ x  for x in l]\n",
    "t =[]\n",
    "\n",
    "print(ll)\n"
   ]
  },
  {
   "cell_type": "code",
   "execution_count": 2380,
   "id": "1cf2011a",
   "metadata": {},
   "outputs": [
    {
     "name": "stdout",
     "output_type": "stream",
     "text": [
      "['ma-start', 'start-MP', 'start-xe'] ['start-ma', 'MP-start', 'xe-start']\n",
      "... ['rv-YZ', 'rv-MP', 'MP-vc', 'kj-QD', 'kj-rv', 'rv-ma', 'zd-YZ', 'rv-UB', 'xe-MP', 'UB-ma', 'MP-ma', 'xe-UB', 'MP-ju', 'xe-ma', 'UB-zd']\n",
      "['ma-start', 'start-MP', 'start-xe']\n",
      "['zd-end', 'end-UB', 'YZ-end']\n",
      "['YZ-rv', 'MP-rv', 'vc-MP', 'QD-kj', 'rv-kj', 'ma-rv', 'YZ-zd', 'UB-rv', 'MP-xe', 'ma-UB', 'ma-MP', 'UB-xe', 'ju-MP', 'ma-xe', 'zd-UB', 'zd-end', 'end-UB', 'YZ-end', 'ma-start', 'start-MP', 'start-xe', 'rv-YZ', 'rv-MP', 'MP-vc', 'kj-QD', 'kj-rv', 'rv-ma', 'zd-YZ', 'rv-UB', 'xe-MP', 'UB-ma', 'MP-ma', 'xe-UB', 'MP-ju', 'xe-ma', 'UB-zd', 'end-zd', 'UB-end', 'end-YZ', 'start-ma', 'MP-start', 'xe-start']\n"
     ]
    }
   ],
   "source": [
    "startPoint =[ x for x in ll if 'start' in x]\n",
    "startrev =[ x.split(\"-\")[1] + \"-\" + x.split(\"-\")[0] for x in ll if 'start' in x]\n",
    "endPoint = [x for x in ll if 'end' in x]\n",
    "endRev = [x.split(\"-\")[1] + \"-\" + x.split(\"-\")[0]  for x in ll if 'end' in x]\n",
    "print(startPoint, startrev)\n",
    "_connections = [x for x in ll if 'end' not in x and 'start' not in x] \n",
    "connections = [x for x in ll if 'end' not in x and 'start' not in x] \n",
    "#rev =  [ x.split(\"-\")[1] + \"-\" + x.split(\"-\")[0] in ll if 'end' not in x and 'start' not in x  ]\n",
    "rev =[x.split(\"-\")[1] + \"-\" + x.split(\"-\")[0] for x in ll if 'end' not in x and 'start' not in x] \n",
    "print(\"...\",rev)\n",
    "connections = connections + endPoint +startPoint + rev  +endRev+startrev\n",
    "print (startPoint)\n",
    "print(endPoint)\n",
    "print(connections)\n"
   ]
  },
  {
   "cell_type": "code",
   "execution_count": 2381,
   "id": "e4d68ab7",
   "metadata": {},
   "outputs": [],
   "source": [
    "def getNext(current, l):\n",
    "    return [x for x in l if current +\"-\" in x and len(x.split(\"-\")[0]) == len(current) and '-start' not in x]\n"
   ]
  },
  {
   "cell_type": "code",
   "execution_count": 2382,
   "id": "a7f7c4e0",
   "metadata": {},
   "outputs": [
    {
     "data": {
      "text/plain": [
       "[]"
      ]
     },
     "execution_count": 2382,
     "metadata": {},
     "output_type": "execute_result"
    }
   ],
   "source": [
    "getNext('RW',connections)"
   ]
  },
  {
   "cell_type": "code",
   "execution_count": 2383,
   "id": "f640373a",
   "metadata": {},
   "outputs": [],
   "source": [
    "def lowerCheck(s):\n",
    "    for x in s:\n",
    "        if not x == x.lower():\n",
    "            return False\n",
    "    return True"
   ]
  },
  {
   "cell_type": "code",
   "execution_count": 2384,
   "id": "4b65be0d",
   "metadata": {},
   "outputs": [],
   "source": [
    "def ch(l):\n",
    "    t = [x for x in l if x != 'start']\n",
    "    if len(t) - len(set(t)) >= 1:\n",
    "        return False\n",
    "    return True"
   ]
  },
  {
   "cell_type": "code",
   "execution_count": 2385,
   "id": "0ac04290",
   "metadata": {},
   "outputs": [],
   "source": [
    "def sch(l):\n",
    "    t = [x for x in l if x != 'start']\n",
    "    if len(t) - len(set(t)) > 1:\n",
    "        return False\n",
    "    return True"
   ]
  },
  {
   "cell_type": "code",
   "execution_count": 2386,
   "id": "1fc1808b",
   "metadata": {},
   "outputs": [
    {
     "data": {
      "text/plain": [
       "False"
      ]
     },
     "execution_count": 2386,
     "metadata": {},
     "output_type": "execute_result"
    }
   ],
   "source": [
    "h = ['start','start','a','b','c','c']\n",
    "ch(h)"
   ]
  },
  {
   "cell_type": "code",
   "execution_count": 2387,
   "id": "ab989827",
   "metadata": {},
   "outputs": [
    {
     "name": "stdout",
     "output_type": "stream",
     "text": [
      "True\n"
     ]
    }
   ],
   "source": [
    "print(lowerCheck('aa'))"
   ]
  },
  {
   "cell_type": "code",
   "execution_count": 2388,
   "id": "8eb61ada",
   "metadata": {},
   "outputs": [],
   "source": [
    "global g\n",
    "g = defaultdict(int)\n",
    "def followPath2(current,origin,l,visited,db):\n",
    "    #print(\"..\",current,origin,visited,db)\n",
    "\n",
    "    \n",
    "    \n",
    "    #if '-' in origin:\n",
    "    #    if lowerCheck(origin.split(\"-\")[0]):\n",
    "    #        if origin.split(\"-\")[0] == 'start':\n",
    "    #            visited.append(origin.split(\"-\")[0])\n",
    "    #            visited.append(origin.split(\"-\")[0])\n",
    "    #        else:\n",
    "    #            visited.append(origin.split(\"-\")[0])\n",
    "    #            if visited.count(origin.split(\"-\")[0]) >2:\n",
    "    #                return 0\n",
    "    if lowerCheck(current):\n",
    "        if current == 'start' and visited.count('start')<2:\n",
    "            visited.append(current)\n",
    "        else:\n",
    "            if visited.count(current) ==2:\n",
    "                return 0\n",
    "            else:\n",
    "                if ch(visited) == True:\n",
    "                    if visited.count(current) <2:\n",
    "                        visited.append(current)\n",
    "                    else:\n",
    "                        return 0\n",
    "                else:\n",
    "                    if visited.count(current) >0:\n",
    "                        return 0\n",
    "                    else:\n",
    "                        visited.append(current)\n",
    "                    \n",
    "\n",
    "    nx = getNext(current,l)\n",
    "    \n",
    "    retVal = 0\n",
    "    if current == 'end':\n",
    "        if g[''.join(db)] == 1:\n",
    "            return 0\n",
    "       \n",
    "        g[''.join(db)] = 1\n",
    "        #print(db)\n",
    "        return 1\n",
    "\n",
    "\n",
    "    #print(current,nx)\n",
    "    \n",
    "    if nx ==[]:\n",
    "        return 0\n",
    "    for x in nx:\n",
    "        p = x.split('-')[1]\n",
    "    retVal = retVal + followPath2(x.split('-')[1],x,l,visited.copy(),db+current,t)\n",
    "\n",
    "        _visited=visited.copy()\n",
    "        if not ch(_visited):\n",
    "            if not p in _visited:\n",
    "                _db = db.copy()\n",
    "                _db.append(current)\n",
    "                retVal = retVal + followPath2(x.split('-')[1],x,l,_visited,_db)\n",
    "        else:\n",
    "            if _visited.count(p) <2:\n",
    "                _db = db.copy()\n",
    "                _db.append(current)\n",
    "                retVal = retVal + followPath2(x.split('-')[1],x,l,_visited,_db)\n",
    "       \n",
    "    return retVal"
   ]
  },
  {
   "cell_type": "code",
   "execution_count": 2389,
   "id": "62b33968",
   "metadata": {},
   "outputs": [],
   "source": [
    "def getAll(l):\n",
    "    for x in l:\n",
    "        print(x)"
   ]
  },
  {
   "cell_type": "code",
   "execution_count": 2390,
   "id": "dee816f1",
   "metadata": {},
   "outputs": [
    {
     "name": "stdout",
     "output_type": "stream",
     "text": [
      "120535\n"
     ]
    }
   ],
   "source": [
    "\n",
    "x = followPath2('start','',connections,[],[])\n",
    "\n",
    "\n",
    "print(x)"
   ]
  },
  {
   "cell_type": "code",
   "execution_count": 2378,
   "id": "7040ebeb",
   "metadata": {},
   "outputs": [
    {
     "name": "stdout",
     "output_type": "stream",
     "text": [
      "119 119\n"
     ]
    }
   ],
   "source": [
    "ff = open(\"day12v.txt\", \"r\")\n",
    "_l = ff.read().split(\"\\n\")[:-1]\n",
    "_ll = [x for x in _l]\n",
    "print(len(set(_ll)), len(_ll))\n"
   ]
  },
  {
   "cell_type": "code",
   "execution_count": null,
   "id": "8fe71249",
   "metadata": {},
   "outputs": [],
   "source": []
  },
  {
   "cell_type": "code",
   "execution_count": null,
   "id": "ac1b0eed",
   "metadata": {},
   "outputs": [],
   "source": []
  },
  {
   "cell_type": "code",
   "execution_count": null,
   "id": "513ee8db",
   "metadata": {},
   "outputs": [],
   "source": []
  }
 ],
 "metadata": {
  "kernelspec": {
   "display_name": "Python 3",
   "language": "python",
   "name": "python3"
  },
  "language_info": {
   "codemirror_mode": {
    "name": "ipython",
    "version": 3
   },
   "file_extension": ".py",
   "mimetype": "text/x-python",
   "name": "python",
   "nbconvert_exporter": "python",
   "pygments_lexer": "ipython3",
   "version": "3.8.8"
  }
 },
 "nbformat": 4,
 "nbformat_minor": 5
}
