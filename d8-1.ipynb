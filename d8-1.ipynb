{
 "cells": [
  {
   "cell_type": "code",
   "execution_count": 1,
   "id": "0c6fe325",
   "metadata": {},
   "outputs": [],
   "source": [
    "from collections import defaultdict\n",
    "f = open(\"input8-1.txt\", \"r\")\n",
    "l = f.read().split(\"\\n\")[:-1]\n",
    "ll = [x for x in l]\n",
    "\n",
    "#print(ll)\n",
    "le = len(l[0])\n",
    "n = [2,4,3,7]\n"
   ]
  },
  {
   "cell_type": "code",
   "execution_count": 2,
   "id": "d085e906",
   "metadata": {},
   "outputs": [
    {
     "name": "stdout",
     "output_type": "stream",
     "text": [
      "272\n"
     ]
    }
   ],
   "source": [
    "ct = 0\n",
    "z = []\n",
    "for x in ll:\n",
    "    t = x.split(\" | \")[1].split(\" \")\n",
    "    for y in t:\n",
    "        if len(list(set(y))) in n:\n",
    "            ct +=1\n",
    "            \n",
    "print(ct)"
   ]
  },
  {
   "cell_type": "code",
   "execution_count": null,
   "id": "20d0fb6c",
   "metadata": {},
   "outputs": [],
   "source": []
  }
 ],
 "metadata": {
  "kernelspec": {
   "display_name": "Python 3",
   "language": "python",
   "name": "python3"
  },
  "language_info": {
   "codemirror_mode": {
    "name": "ipython",
    "version": 3
   },
   "file_extension": ".py",
   "mimetype": "text/x-python",
   "name": "python",
   "nbconvert_exporter": "python",
   "pygments_lexer": "ipython3",
   "version": "3.8.8"
  }
 },
 "nbformat": 4,
 "nbformat_minor": 5
}
