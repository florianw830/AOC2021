{
 "cells": [
  {
   "cell_type": "code",
   "execution_count": 1,
   "metadata": {},
   "outputs": [
    {
     "name": "stdout",
     "output_type": "stream",
     "text": [
      "12\n"
     ]
    }
   ],
   "source": [
    "from collections import defaultdict\n",
    "f = open(\"input3-1.txt\", \"r\")\n",
    "l = f.read().split(\"\\n\")[:-1]\n",
    "ll = [x for x in l]\n",
    "\n",
    "le = len(l[0])\n",
    "n = []\n",
    "print(le)"
   ]
  },
  {
   "cell_type": "code",
   "execution_count": 2,
   "metadata": {},
   "outputs": [
    {
     "name": "stdout",
     "output_type": "stream",
     "text": [
      "802 3293 2640986\n"
     ]
    }
   ],
   "source": [
    "for i in range(0,le):\n",
    "    s =\"\"\n",
    "    for x in ll:\n",
    "        s += x[i]\n",
    "    n.append(s)\n",
    "    \n",
    "ret = []\n",
    "ret2 = []\n",
    "for t in n:\n",
    "    if t.count('0') > t.count('1'):\n",
    "        ret.append('0')\n",
    "        ret2.append('1')\n",
    "    else:\n",
    "        ret.append('1')\n",
    "        ret2.append('0')\n",
    "print(int(''.join(ret),2),int(''.join(ret2),2),int(''.join(ret),2)*int(''.join(ret2),2))\n",
    "\n"
   ]
  },
  {
   "cell_type": "code",
   "execution_count": null,
   "metadata": {},
   "outputs": [],
   "source": []
  }
 ],
 "metadata": {
  "kernelspec": {
   "display_name": "Python 3",
   "language": "python",
   "name": "python3"
  },
  "language_info": {
   "codemirror_mode": {
    "name": "ipython",
    "version": 3
   },
   "file_extension": ".py",
   "mimetype": "text/x-python",
   "name": "python",
   "nbconvert_exporter": "python",
   "pygments_lexer": "ipython3",
   "version": "3.8.8"
  }
 },
 "nbformat": 4,
 "nbformat_minor": 4
}
