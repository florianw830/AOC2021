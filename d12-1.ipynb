{
 "cells": [
  {
   "cell_type": "code",
   "execution_count": 10,
   "id": "544a1497",
   "metadata": {},
   "outputs": [
    {
     "name": "stdout",
     "output_type": "stream",
     "text": [
      "['dc-end', 'start-HN', 'start-kj', 'start-dc', 'dc-HN', 'LN-dc', 'HN-end', 'kj-sa', 'kj-HN', 'kj-dc']\n"
     ]
    }
   ],
   "source": [
    "from collections import defaultdict\n",
    "import itertools\n",
    "f = open(\"input12-2.txt\", \"r\")\n",
    "l = f.read().split(\"\\n\")[:-1]\n",
    "ll = [ x  for x in l]\n",
    "t =[]\n",
    "\n",
    "print(ll)\n"
   ]
  },
  {
   "cell_type": "code",
   "execution_count": 11,
   "id": "38765058",
   "metadata": {},
   "outputs": [
    {
     "name": "stdout",
     "output_type": "stream",
     "text": [
      "... ['HN-dc', 'dc-LN', 'sa-kj', 'HN-kj', 'dc-kj']\n",
      "['start-HN', 'start-kj', 'start-dc']\n",
      "['dc-end', 'HN-end']\n",
      "['dc-HN', 'LN-dc', 'kj-sa', 'kj-HN', 'kj-dc', 'dc-end', 'HN-end', 'start-HN', 'start-kj', 'start-dc', 'HN-dc', 'dc-LN', 'sa-kj', 'HN-kj', 'dc-kj', 'HN-start', 'kj-start', 'dc-start', 'end-dc', 'end-HN']\n"
     ]
    }
   ],
   "source": [
    "startPoint =[ x for x in ll if 'start' in x]\n",
    "startrev =[ x.split(\"-\")[1] + \"-\" + x.split(\"-\")[0] for x in ll if 'start' in x]\n",
    "endPoint = [x for x in ll if 'end' in x]\n",
    "endRev = [x.split(\"-\")[1] + \"-\" + x.split(\"-\")[0]  for x in ll if 'end' in x]\n",
    "connections = [x for x in ll if 'end' not in x and 'start' not in x] \n",
    "#rev =  [ x.split(\"-\")[1] + \"-\" + x.split(\"-\")[0] in ll if 'end' not in x and 'start' not in x  ]\n",
    "rev =[x.split(\"-\")[1] + \"-\" + x.split(\"-\")[0] for x in ll if 'end' not in x and 'start' not in x] \n",
    "print(\"...\",rev)\n",
    "connections = connections + endPoint +startPoint + rev + startrev + endRev \n",
    "print (startPoint)\n",
    "print(endPoint)\n",
    "print(connections)\n"
   ]
  },
  {
   "cell_type": "code",
   "execution_count": 12,
   "id": "ce863952",
   "metadata": {},
   "outputs": [],
   "source": [
    "def getNext(current, l):\n",
    "    return [x for x in l if current +\"-\" in x]\n"
   ]
  },
  {
   "cell_type": "code",
   "execution_count": 13,
   "id": "dd5b4fd4",
   "metadata": {},
   "outputs": [
    {
     "data": {
      "text/plain": [
       "['dc-HN', 'dc-end', 'dc-LN', 'dc-kj', 'dc-start']"
      ]
     },
     "execution_count": 13,
     "metadata": {},
     "output_type": "execute_result"
    }
   ],
   "source": [
    "getNext('c',connections)"
   ]
  },
  {
   "cell_type": "code",
   "execution_count": 14,
   "id": "de6bf375",
   "metadata": {},
   "outputs": [],
   "source": [
    "def lowerCheck(s):\n",
    "    for x in s:\n",
    "        if not x == x.lower():\n",
    "            return False\n",
    "    return True"
   ]
  },
  {
   "cell_type": "code",
   "execution_count": 15,
   "id": "c813e11c",
   "metadata": {},
   "outputs": [
    {
     "name": "stdout",
     "output_type": "stream",
     "text": [
      "True\n"
     ]
    }
   ],
   "source": [
    "print(lowerCheck('aa'))"
   ]
  },
  {
   "cell_type": "code",
   "execution_count": 16,
   "id": "8678e9b2",
   "metadata": {},
   "outputs": [],
   "source": [
    "def followPath2(current,origin,l,visited,db):\n",
    "\n",
    "    retVal = 0\n",
    "    if current == 'end':\n",
    "        print(db)\n",
    "        return 1\n",
    "    if '-' in origin:\n",
    "        if lowerCheck(origin.split(\"-\")[0]):\n",
    "            visited.append(origin.split(\"-\")[0])\n",
    "    nx = getNext(current,l)\n",
    "\n",
    "    if nx ==[]:\n",
    "        return 0\n",
    "    #print(current, nx, visited)\n",
    "    for x in nx:\n",
    "        p = x.split('-')[1]\n",
    "        if not p in visited:\n",
    "            retVal = retVal + followPath2(x.split('-')[1],x,l,visited.copy(),db+current)\n",
    "    return retVal"
   ]
  },
  {
   "cell_type": "code",
   "execution_count": 17,
   "id": "7bf2e270",
   "metadata": {},
   "outputs": [],
   "source": [
    "def getAll(l):\n",
    "    for x in l:\n",
    "        print(x)"
   ]
  },
  {
   "cell_type": "code",
   "execution_count": 18,
   "id": "27cd0c45",
   "metadata": {},
   "outputs": [
    {
     "name": "stdout",
     "output_type": "stream",
     "text": [
      "startHN\n",
      "startHNdcHN\n",
      "startHNdcHNkjHN\n",
      "startHNdc\n",
      "startHNdckjHN\n",
      "startHNkjHN\n",
      "startHNkjHNdcHN\n",
      "startHNkjHNdc\n",
      "startHNkjdcHN\n",
      "startHNkjdc\n",
      "startkjHN\n",
      "startkjHNdcHN\n",
      "startkjHNdc\n",
      "startkjdcHN\n",
      "startkjdc\n",
      "startdcHN\n",
      "startdcHNkjHN\n",
      "startdc\n",
      "startdckjHN\n",
      "19\n"
     ]
    }
   ],
   "source": [
    "x = followPath2('start','',connections,[],\"\")\n",
    "\n",
    "print(x)\n"
   ]
  },
  {
   "cell_type": "code",
   "execution_count": 357,
   "id": "e23dd4f2",
   "metadata": {},
   "outputs": [
    {
     "name": "stdout",
     "output_type": "stream",
     "text": [
      "[]\n"
     ]
    }
   ],
   "source": []
  },
  {
   "cell_type": "code",
   "execution_count": 169,
   "id": "3b2eab80",
   "metadata": {},
   "outputs": [],
   "source": [
    "dct = defaultdict(int)\n",
    "\n"
   ]
  },
  {
   "cell_type": "code",
   "execution_count": 35,
   "id": "6a4546d4",
   "metadata": {},
   "outputs": [
    {
     "name": "stdout",
     "output_type": "stream",
     "text": [
      "A\n",
      "['start-A', 'start-b']\n",
      "b\n",
      "['start-A', 'start-b']\n",
      "c\n",
      "['A-c', 'A-b', 'b-d']\n",
      "b\n",
      "['A-c', 'A-b', 'b-d']\n",
      "d\n",
      "['A-c', 'A-b', 'b-d']\n",
      "d\n",
      "['b-d']\n",
      "3\n"
     ]
    }
   ],
   "source": [
    "endPoints = 0\n",
    "check = startPoint.copy()\n",
    "while len(check) >0:\n",
    "    tmp = []\n",
    "    for x in check:\n",
    "        p = x.split(\"-\")[1]\n",
    "        print(p)\n",
    "        tmp= tmp +getNext(p,connections) \n",
    "        print(check)\n",
    "        endPoints += len(getNext(p,endPoint))\n",
    "    check = tmp.copy()\n",
    "print(endPoints)"
   ]
  },
  {
   "cell_type": "code",
   "execution_count": null,
   "id": "6dda6035",
   "metadata": {},
   "outputs": [],
   "source": []
  }
 ],
 "metadata": {
  "kernelspec": {
   "display_name": "Python 3",
   "language": "python",
   "name": "python3"
  },
  "language_info": {
   "codemirror_mode": {
    "name": "ipython",
    "version": 3
   },
   "file_extension": ".py",
   "mimetype": "text/x-python",
   "name": "python",
   "nbconvert_exporter": "python",
   "pygments_lexer": "ipython3",
   "version": "3.8.8"
  }
 },
 "nbformat": 4,
 "nbformat_minor": 5
}
