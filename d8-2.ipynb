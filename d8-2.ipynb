{
 "cells": [
  {
   "cell_type": "code",
   "execution_count": 315,
   "metadata": {},
   "outputs": [],
   "source": [
    "from collections import defaultdict\n",
    "f = open(\"input8-1.txt\", \"r\")\n",
    "l = f.read().split(\"\\n\")[:-1]\n",
    "ll = [x for x in l]\n",
    "\n",
    "#print(ll)\n",
    "le = len(l[0])\n",
    "\n",
    "\n"
   ]
  },
  {
   "cell_type": "code",
   "execution_count": 316,
   "metadata": {},
   "outputs": [],
   "source": [
    "def check(a):\n",
    "    n = [(1,2),(4,4),(7,3) ,(8,7)]\n",
    "    for x in n:\n",
    "        if len(a) == x[1]:\n",
    "            return x[0]\n",
    "    return -1"
   ]
  },
  {
   "cell_type": "code",
   "execution_count": 317,
   "metadata": {},
   "outputs": [],
   "source": [
    "def fill(l,a,n):\n",
    "    tmp = list(sorted(a))\n",
    "    if n == 8:\n",
    "        l = tmp.copy()\n",
    "    if n == 7:\n",
    "        n[1] = tmp[0]\n",
    "        n[2] = a[1]\n",
    "    "
   ]
  },
  {
   "cell_type": "code",
   "execution_count": 318,
   "metadata": {},
   "outputs": [
    {
     "name": "stdout",
     "output_type": "stream",
     "text": [
      "['a', 'b', 'c', 'd', 'e', 'f', 'g']\n",
      "['a', 'b', 'e', 'f']\n"
     ]
    }
   ],
   "source": [
    "print(sorted('acedgfb'))\n",
    "print(sorted('eafb'))\n",
    "def match(a,b):\n",
    "    if abs(len(a) - len(b)) != 1:\n",
    "        return ''\n",
    "    retVal = list(set(a)-set(b))\n",
    "    if len(retVal) ==1:\n",
    "        return retVal[0]\n",
    "\n",
    "    return ''\n",
    "    "
   ]
  },
  {
   "cell_type": "code",
   "execution_count": 319,
   "metadata": {},
   "outputs": [],
   "source": [
    "def getL(a,lst):\n",
    "    return [ (k,match(k,sorted(a)))  for k in t if match(k,sorted(a)) !=''][0]"
   ]
  },
  {
   "cell_type": "code",
   "execution_count": 320,
   "metadata": {},
   "outputs": [
    {
     "name": "stdout",
     "output_type": "stream",
     "text": [
      "1007675\n"
     ]
    }
   ],
   "source": [
    "ct = 0\n",
    "z = []\n",
    "for x in ll:\n",
    "    t = x.split(\" | \")[0].split(\" \")\n",
    "    l = [\"-\"]*7\n",
    "    eight = [ sorted(k) for k in t if len(k) == 7][0]\n",
    "    \n",
    "    #oben\n",
    "    tmp = [ sorted(k) for k in t if len(k) == 2 or len(k) == 3]\n",
    "    right = [ sorted(k) for k in t if len(k) == 2][0]\n",
    "    if len (tmp[0]) > len(tmp[1]):\n",
    "        l[0] = list(set(tmp[0]) - set(tmp[1]))[0]\n",
    "    else:\n",
    "        l[0] = list(set(tmp[1]) - set(tmp[0]))[0]\n",
    "    #unten\n",
    "    check = [ sorted(k) for k in t if len(k) == 4 ][0] +[l[0]]\n",
    "    l[6] = getL(check,t[1])[1]\n",
    "\n",
    "    #mitte\n",
    "    check = right + [l[0]]+ [l[6]]\n",
    "    three = getL(check, l)\n",
    "    #print(three)\n",
    "    l[3] = three[1]\n",
    "    \n",
    "    #unten links\n",
    "    tmp = [ sorted(k) for k in t if len(k) == 4 ]\n",
    "    \n",
    "    nine =  tmp[0] + [l[0]]+ [l[-1]] \n",
    "    l[4] = list(set(eight) - set(nine))[0]\n",
    "    #print(\".\", set(eight) - set(nine))\n",
    "            \n",
    "\n",
    "    #unten rechts\n",
    "    check = sorted([x for x in l if x != '-'])\n",
    "    l[2] = getL(check,l)[1]\n",
    "    l[5] = list(set(right) - set(getL(check,l)))[0]\n",
    "    \n",
    "    l[1] = list(set(eight) - set(l))[0]\n",
    "    #print(l)\n",
    "    #check = [l[0],l[3],l[4],l[5],l{6}\n",
    "    one = [l[2],l[5]]\n",
    "    two = [l[0],l[2],l[3],l[4],l[6]]\n",
    "    three = list(three[0])\n",
    "    four = [l[1],l[3],l[2],l[5]]\n",
    "    five = [x for i,x in enumerate(l) if i != 2 and i != 4]\n",
    "    six =  [x for i,x in enumerate(l) if i != 2]\n",
    "    seven = [l[0],l[2],l[5]]\n",
    "    nine = [x for i,x in enumerate(l) if i != 4]\n",
    "    zero = [x for i,x in enumerate(l) if i != 3]\n",
    "    eight = list(eight)\n",
    "    checkList = [zero,one,two,three,four,five,six,seven,eight,nine]\n",
    "    st = \"\"\n",
    "    for tt in x.split(\" | \")[1].split(\" \"):\n",
    "        for i in range(0,len(checkList)):\n",
    "            if sorted(tt) == sorted(checkList[i]):\n",
    "                st+=str(i)\n",
    "    ct+= int(st)\n",
    "      \n",
    "print(ct)"
   ]
  },
  {
   "cell_type": "code",
   "execution_count": 28,
   "metadata": {},
   "outputs": [
    {
     "name": "stdout",
     "output_type": "stream",
     "text": [
      "['a', 'b', 'c', 'd', 'e', 'f', 'g']\n",
      "['a', 'b', 'c', 'd', 'e', 'f', 'g']\n"
     ]
    }
   ],
   "source": [
    "print(sorted(list('acedgfb')))\n",
    "print(sorted(list('fdgacbe')))\n",
    "#fdgacbe"
   ]
  },
  {
   "cell_type": "code",
   "execution_count": null,
   "metadata": {},
   "outputs": [],
   "source": [
    "   000\n",
    "  1   2\n",
    "  1   2\n",
    "   333\n",
    "  4   5\n",
    "  4   5\n",
    "   666"
   ]
  }
 ],
 "metadata": {
  "kernelspec": {
   "display_name": "Python 3",
   "language": "python",
   "name": "python3"
  },
  "language_info": {
   "codemirror_mode": {
    "name": "ipython",
    "version": 3
   },
   "file_extension": ".py",
   "mimetype": "text/x-python",
   "name": "python",
   "nbconvert_exporter": "python",
   "pygments_lexer": "ipython3",
   "version": "3.8.5"
  }
 },
 "nbformat": 4,
 "nbformat_minor": 5
}
