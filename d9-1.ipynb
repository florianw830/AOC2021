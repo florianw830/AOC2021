{
 "cells": [
  {
   "cell_type": "code",
   "execution_count": 43,
   "id": "0895f47f",
   "metadata": {},
   "outputs": [],
   "source": [
    "from collections import defaultdict\n",
    "f = open(\"input9-1.txt\", \"r\")\n",
    "l = f.read().split(\"\\n\")[:-1]\n",
    "ll = [ x  for x in l]\n",
    "t =[]\n",
    "for l in ll:\n",
    "    t.append( [int(x) for x in l])\n",
    "#print(t)\n",
    "\n"
   ]
  },
  {
   "cell_type": "code",
   "execution_count": 44,
   "id": "f5e95a29",
   "metadata": {},
   "outputs": [
    {
     "name": "stdout",
     "output_type": "stream",
     "text": [
      "496\n"
     ]
    }
   ],
   "source": [
    "retVal =[]\n",
    "for n in range(0,len(t)):\n",
    "    for i in range(0,len(t[n])):\n",
    "        check = t[n][i]\n",
    "        checkList = []\n",
    "        if i == 0:\n",
    "            checkList.append(t[n][i+1])\n",
    "        elif i == len(t[n])-1:\n",
    "            checkList.append(t[n][i-1])\n",
    "        else:\n",
    "            checkList.append(t[n][i-1])\n",
    "            checkList.append(t[n][i+1])\n",
    "        if n == 0:\n",
    "            checkList.append(t[n+1][i])\n",
    "        elif n == len(t)-1:\n",
    "            checkList.append(t[n-1][i])\n",
    "        else:\n",
    "            checkList.append(t[n+1][i])\n",
    "            checkList.append(t[n-1][i])\n",
    "            \n",
    "        if not check in checkList:\n",
    "            checkList.append(check)\n",
    "            if min(checkList) == check:\n",
    "                retVal.append(check+1)\n",
    "        \n",
    "print(sum(retVal))"
   ]
  },
  {
   "cell_type": "code",
   "execution_count": null,
   "id": "b13b0135",
   "metadata": {},
   "outputs": [],
   "source": []
  }
 ],
 "metadata": {
  "kernelspec": {
   "display_name": "Python 3",
   "language": "python",
   "name": "python3"
  },
  "language_info": {
   "codemirror_mode": {
    "name": "ipython",
    "version": 3
   },
   "file_extension": ".py",
   "mimetype": "text/x-python",
   "name": "python",
   "nbconvert_exporter": "python",
   "pygments_lexer": "ipython3",
   "version": "3.8.8"
  }
 },
 "nbformat": 4,
 "nbformat_minor": 5
}
